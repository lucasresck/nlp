{
  "nbformat": 4,
  "nbformat_minor": 0,
  "metadata": {
    "colab": {
      "name": "bert_test.ipynb",
      "provenance": [],
      "mount_file_id": "1qxflHPjCVUYgO2NA-CdhG2g9V2nUssog",
      "authorship_tag": "ABX9TyND1TXFuF2pmo8ipORnSdwu",
      "include_colab_link": true
    },
    "kernelspec": {
      "name": "python3",
      "display_name": "Python 3"
    },
    "widgets": {
      "application/vnd.jupyter.widget-state+json": {
        "e39a3b1d471c431592cfb3cbc04309d6": {
          "model_module": "@jupyter-widgets/controls",
          "model_name": "HBoxModel",
          "state": {
            "_view_name": "HBoxView",
            "_dom_classes": [],
            "_model_name": "HBoxModel",
            "_view_module": "@jupyter-widgets/controls",
            "_model_module_version": "1.5.0",
            "_view_count": null,
            "_view_module_version": "1.5.0",
            "box_style": "",
            "layout": "IPY_MODEL_866c920691854b2194fb59e687b10270",
            "_model_module": "@jupyter-widgets/controls",
            "children": [
              "IPY_MODEL_b3f93fc2f8634dacb4138763f4e53a69",
              "IPY_MODEL_87f26781422c448089ec138063be5b84"
            ]
          }
        },
        "866c920691854b2194fb59e687b10270": {
          "model_module": "@jupyter-widgets/base",
          "model_name": "LayoutModel",
          "state": {
            "_view_name": "LayoutView",
            "grid_template_rows": null,
            "right": null,
            "justify_content": null,
            "_view_module": "@jupyter-widgets/base",
            "overflow": null,
            "_model_module_version": "1.2.0",
            "_view_count": null,
            "flex_flow": null,
            "width": null,
            "min_width": null,
            "border": null,
            "align_items": null,
            "bottom": null,
            "_model_module": "@jupyter-widgets/base",
            "top": null,
            "grid_column": null,
            "overflow_y": null,
            "overflow_x": null,
            "grid_auto_flow": null,
            "grid_area": null,
            "grid_template_columns": null,
            "flex": null,
            "_model_name": "LayoutModel",
            "justify_items": null,
            "grid_row": null,
            "max_height": null,
            "align_content": null,
            "visibility": null,
            "align_self": null,
            "height": null,
            "min_height": null,
            "padding": null,
            "grid_auto_rows": null,
            "grid_gap": null,
            "max_width": null,
            "order": null,
            "_view_module_version": "1.2.0",
            "grid_template_areas": null,
            "object_position": null,
            "object_fit": null,
            "grid_auto_columns": null,
            "margin": null,
            "display": null,
            "left": null
          }
        },
        "b3f93fc2f8634dacb4138763f4e53a69": {
          "model_module": "@jupyter-widgets/controls",
          "model_name": "FloatProgressModel",
          "state": {
            "_view_name": "ProgressView",
            "style": "IPY_MODEL_129b9989fc864920aed786adf67affb3",
            "_dom_classes": [],
            "description": "100%",
            "_model_name": "FloatProgressModel",
            "bar_style": "success",
            "max": 681,
            "_view_module": "@jupyter-widgets/controls",
            "_model_module_version": "1.5.0",
            "value": 681,
            "_view_count": null,
            "_view_module_version": "1.5.0",
            "orientation": "horizontal",
            "min": 0,
            "description_tooltip": null,
            "_model_module": "@jupyter-widgets/controls",
            "layout": "IPY_MODEL_57667c1c3f3e4bdd8a4bd62580344056"
          }
        },
        "87f26781422c448089ec138063be5b84": {
          "model_module": "@jupyter-widgets/controls",
          "model_name": "HTMLModel",
          "state": {
            "_view_name": "HTMLView",
            "style": "IPY_MODEL_33a36cb32fb94666a184001b461386db",
            "_dom_classes": [],
            "description": "",
            "_model_name": "HTMLModel",
            "placeholder": "​",
            "_view_module": "@jupyter-widgets/controls",
            "_model_module_version": "1.5.0",
            "value": " 681/681 [07:38&lt;00:00,  1.48it/s]",
            "_view_count": null,
            "_view_module_version": "1.5.0",
            "description_tooltip": null,
            "_model_module": "@jupyter-widgets/controls",
            "layout": "IPY_MODEL_72c17bfc1a634025b0b9e78f5ffd57dd"
          }
        },
        "129b9989fc864920aed786adf67affb3": {
          "model_module": "@jupyter-widgets/controls",
          "model_name": "ProgressStyleModel",
          "state": {
            "_view_name": "StyleView",
            "_model_name": "ProgressStyleModel",
            "description_width": "initial",
            "_view_module": "@jupyter-widgets/base",
            "_model_module_version": "1.5.0",
            "_view_count": null,
            "_view_module_version": "1.2.0",
            "bar_color": null,
            "_model_module": "@jupyter-widgets/controls"
          }
        },
        "57667c1c3f3e4bdd8a4bd62580344056": {
          "model_module": "@jupyter-widgets/base",
          "model_name": "LayoutModel",
          "state": {
            "_view_name": "LayoutView",
            "grid_template_rows": null,
            "right": null,
            "justify_content": null,
            "_view_module": "@jupyter-widgets/base",
            "overflow": null,
            "_model_module_version": "1.2.0",
            "_view_count": null,
            "flex_flow": null,
            "width": null,
            "min_width": null,
            "border": null,
            "align_items": null,
            "bottom": null,
            "_model_module": "@jupyter-widgets/base",
            "top": null,
            "grid_column": null,
            "overflow_y": null,
            "overflow_x": null,
            "grid_auto_flow": null,
            "grid_area": null,
            "grid_template_columns": null,
            "flex": null,
            "_model_name": "LayoutModel",
            "justify_items": null,
            "grid_row": null,
            "max_height": null,
            "align_content": null,
            "visibility": null,
            "align_self": null,
            "height": null,
            "min_height": null,
            "padding": null,
            "grid_auto_rows": null,
            "grid_gap": null,
            "max_width": null,
            "order": null,
            "_view_module_version": "1.2.0",
            "grid_template_areas": null,
            "object_position": null,
            "object_fit": null,
            "grid_auto_columns": null,
            "margin": null,
            "display": null,
            "left": null
          }
        },
        "33a36cb32fb94666a184001b461386db": {
          "model_module": "@jupyter-widgets/controls",
          "model_name": "DescriptionStyleModel",
          "state": {
            "_view_name": "StyleView",
            "_model_name": "DescriptionStyleModel",
            "description_width": "",
            "_view_module": "@jupyter-widgets/base",
            "_model_module_version": "1.5.0",
            "_view_count": null,
            "_view_module_version": "1.2.0",
            "_model_module": "@jupyter-widgets/controls"
          }
        },
        "72c17bfc1a634025b0b9e78f5ffd57dd": {
          "model_module": "@jupyter-widgets/base",
          "model_name": "LayoutModel",
          "state": {
            "_view_name": "LayoutView",
            "grid_template_rows": null,
            "right": null,
            "justify_content": null,
            "_view_module": "@jupyter-widgets/base",
            "overflow": null,
            "_model_module_version": "1.2.0",
            "_view_count": null,
            "flex_flow": null,
            "width": null,
            "min_width": null,
            "border": null,
            "align_items": null,
            "bottom": null,
            "_model_module": "@jupyter-widgets/base",
            "top": null,
            "grid_column": null,
            "overflow_y": null,
            "overflow_x": null,
            "grid_auto_flow": null,
            "grid_area": null,
            "grid_template_columns": null,
            "flex": null,
            "_model_name": "LayoutModel",
            "justify_items": null,
            "grid_row": null,
            "max_height": null,
            "align_content": null,
            "visibility": null,
            "align_self": null,
            "height": null,
            "min_height": null,
            "padding": null,
            "grid_auto_rows": null,
            "grid_gap": null,
            "max_width": null,
            "order": null,
            "_view_module_version": "1.2.0",
            "grid_template_areas": null,
            "object_position": null,
            "object_fit": null,
            "grid_auto_columns": null,
            "margin": null,
            "display": null,
            "left": null
          }
        }
      }
    },
    "accelerator": "TPU"
  },
  "cells": [
    {
      "cell_type": "markdown",
      "metadata": {
        "id": "view-in-github",
        "colab_type": "text"
      },
      "source": [
        "<a href=\"https://colab.research.google.com/github/lucasresck/nlp/blob/master/bert_test.ipynb\" target=\"_parent\"><img src=\"https://colab.research.google.com/assets/colab-badge.svg\" alt=\"Open In Colab\"/></a>"
      ]
    },
    {
      "cell_type": "markdown",
      "metadata": {
        "id": "8cR5_2BXFSXu",
        "colab_type": "text"
      },
      "source": [
        "# Classification of texts using BERT"
      ]
    },
    {
      "cell_type": "markdown",
      "metadata": {
        "id": "BUgyrhxpHgjA",
        "colab_type": "text"
      },
      "source": [
        "Inspired by: https://colab.research.google.com/github/tensorflow/models/blob/master/official/colab/fine_tuning_bert.ipynb"
      ]
    },
    {
      "cell_type": "markdown",
      "metadata": {
        "id": "icbWvsLwFVuL",
        "colab_type": "text"
      },
      "source": [
        "## Setup"
      ]
    },
    {
      "cell_type": "code",
      "metadata": {
        "id": "F0jk9msq9JrR",
        "colab_type": "code",
        "colab": {
          "base_uri": "https://localhost:8080/",
          "height": 136
        },
        "outputId": "33a8a278-0401-415a-c364-608b979290e5"
      },
      "source": [
        "!pip install -q tf-models-official==2.3.0"
      ],
      "execution_count": 1,
      "outputs": [
        {
          "output_type": "stream",
          "text": [
            "\u001b[K     |████████████████████████████████| 849kB 3.3MB/s \n",
            "\u001b[K     |████████████████████████████████| 1.1MB 16.5MB/s \n",
            "\u001b[K     |████████████████████████████████| 358kB 24.8MB/s \n",
            "\u001b[K     |████████████████████████████████| 102kB 7.6MB/s \n",
            "\u001b[K     |████████████████████████████████| 36.6MB 1.3MB/s \n",
            "\u001b[K     |████████████████████████████████| 174kB 55.1MB/s \n",
            "\u001b[?25h  Building wheel for py-cpuinfo (setup.py) ... \u001b[?25l\u001b[?25hdone\n"
          ],
          "name": "stdout"
        }
      ]
    },
    {
      "cell_type": "code",
      "metadata": {
        "id": "QGaz_CwF9KvI",
        "colab_type": "code",
        "colab": {}
      },
      "source": [
        "from official.modeling import tf_utils\n",
        "from official import nlp\n",
        "from official.nlp import bert\n",
        "from sklearn.model_selection import train_test_split\n",
        "from tqdm.notebook import tqdm\n",
        "import matplotlib.pyplot as plt\n",
        "import numpy as np\n",
        "import official.nlp.optimization\n",
        "import official.nlp.bert.bert_models\n",
        "import official.nlp.bert.configs\n",
        "import official.nlp.bert.run_classifier\n",
        "import official.nlp.bert.tokenization\n",
        "import official.nlp.data.classifier_data_lib\n",
        "import official.nlp.modeling.losses\n",
        "import official.nlp.modeling.models\n",
        "import official.nlp.modeling.networks\n",
        "import os\n",
        "import tensorflow as tf\n",
        "import tensorflow_datasets as tfds\n",
        "import tensorflow_hub as hub\n",
        "\n",
        "tfds.disable_progress_bar()"
      ],
      "execution_count": 2,
      "outputs": []
    },
    {
      "cell_type": "code",
      "metadata": {
        "id": "7nqrrDDc9MMi",
        "colab_type": "code",
        "colab": {
          "base_uri": "https://localhost:8080/",
          "height": 85
        },
        "outputId": "d9793482-a6d0-48ae-dc7b-a91e3ef145ac"
      },
      "source": [
        "gs_folder_bert = \"gs://cloud-tpu-checkpoints/bert/keras_bert/uncased_L-12_H-768_A-12\"\n",
        "tf.io.gfile.listdir(gs_folder_bert)"
      ],
      "execution_count": 3,
      "outputs": [
        {
          "output_type": "execute_result",
          "data": {
            "text/plain": [
              "['bert_config.json',\n",
              " 'bert_model.ckpt.data-00000-of-00001',\n",
              " 'bert_model.ckpt.index',\n",
              " 'vocab.txt']"
            ]
          },
          "metadata": {
            "tags": []
          },
          "execution_count": 3
        }
      ]
    },
    {
      "cell_type": "code",
      "metadata": {
        "id": "low6oh1a9NuS",
        "colab_type": "code",
        "colab": {}
      },
      "source": [
        "hub_url_bert = \"https://tfhub.dev/tensorflow/bert_en_uncased_L-12_H-768_A-12/2\""
      ],
      "execution_count": 4,
      "outputs": []
    },
    {
      "cell_type": "code",
      "metadata": {
        "id": "MjDciwV6ZVua",
        "colab_type": "code",
        "colab": {}
      },
      "source": [
        "DATAPATH = 'drive/My Drive/Colab Notebooks/data'"
      ],
      "execution_count": 5,
      "outputs": []
    },
    {
      "cell_type": "markdown",
      "metadata": {
        "id": "-o5VrHujFdu4",
        "colab_type": "text"
      },
      "source": [
        "## Data"
      ]
    },
    {
      "cell_type": "markdown",
      "metadata": {
        "id": "cGgXlq5oFgYC",
        "colab_type": "text"
      },
      "source": [
        "### Load data"
      ]
    },
    {
      "cell_type": "code",
      "metadata": {
        "id": "8sBwYrTkY8aj",
        "colab_type": "code",
        "colab": {
          "base_uri": "https://localhost:8080/",
          "height": 66,
          "referenced_widgets": [
            "e39a3b1d471c431592cfb3cbc04309d6",
            "866c920691854b2194fb59e687b10270",
            "b3f93fc2f8634dacb4138763f4e53a69",
            "87f26781422c448089ec138063be5b84",
            "129b9989fc864920aed786adf67affb3",
            "57667c1c3f3e4bdd8a4bd62580344056",
            "33a36cb32fb94666a184001b461386db",
            "72c17bfc1a634025b0b9e78f5ffd57dd"
          ]
        },
        "outputId": "803d5e1d-8c77-4b8d-9343-949975210ceb"
      },
      "source": [
        "filenames = os.listdir(os.path.join(DATAPATH, 'cbr-ilp-ir-son-int'))\n",
        "corpus = []\n",
        "for filename in tqdm(filenames):\n",
        "    with open(os.path.join(DATAPATH, 'cbr-ilp-ir-son-int', filename), 'r', encoding='latin-1') as f:\n",
        "        corpus.append(f.read())"
      ],
      "execution_count": 6,
      "outputs": [
        {
          "output_type": "display_data",
          "data": {
            "application/vnd.jupyter.widget-view+json": {
              "model_id": "e39a3b1d471c431592cfb3cbc04309d6",
              "version_minor": 0,
              "version_major": 2
            },
            "text/plain": [
              "HBox(children=(FloatProgress(value=0.0, max=681.0), HTML(value='')))"
            ]
          },
          "metadata": {
            "tags": []
          }
        },
        {
          "output_type": "stream",
          "text": [
            "\n"
          ],
          "name": "stdout"
        }
      ]
    },
    {
      "cell_type": "code",
      "metadata": {
        "id": "ql5E5RgRG3QQ",
        "colab_type": "code",
        "colab": {
          "base_uri": "https://localhost:8080/",
          "height": 35
        },
        "outputId": "0ae6ab2f-eca3-4383-e4dc-a5f47484f3f7"
      },
      "source": [
        "corpus[0][:100]"
      ],
      "execution_count": 7,
      "outputs": [
        {
          "output_type": "execute_result",
          "data": {
            "application/vnd.google.colaboratory.intrinsic+json": {
              "type": "string"
            },
            "text/plain": [
              "'Instance Based Function Learning\\n\\nJan Ramon and Luc De Raedt\\n\\nKatholieke Universiteit Leuven, Depart'"
            ]
          },
          "metadata": {
            "tags": []
          },
          "execution_count": 7
        }
      ]
    },
    {
      "cell_type": "code",
      "metadata": {
        "id": "vtxN3pZ9ZKnc",
        "colab_type": "code",
        "colab": {}
      },
      "source": [
        "classes = [(filename.split('-')[0]).split('_')[0] for filename in filenames]\n",
        "which_class = dict(zip(set(classes), range(5)))\n",
        "y = np.array([which_class[name] for name in classes])"
      ],
      "execution_count": 8,
      "outputs": []
    },
    {
      "cell_type": "markdown",
      "metadata": {
        "id": "rQPwZuaBFib7",
        "colab_type": "text"
      },
      "source": [
        "### Split training, evaluation and test data"
      ]
    },
    {
      "cell_type": "code",
      "metadata": {
        "id": "fZ_SxPbP9zk5",
        "colab_type": "code",
        "colab": {}
      },
      "source": [
        "corpus_train, corpus_test, y_train, y_test = train_test_split(corpus, y, random_state=2020, test_size=0.2)\n",
        "corpus_train, corpus_eval, y_train, y_eval = train_test_split(corpus_train, y_train, random_state=2021, test_size=0.2)"
      ],
      "execution_count": 9,
      "outputs": []
    },
    {
      "cell_type": "markdown",
      "metadata": {
        "id": "8SVZadh5FlPY",
        "colab_type": "text"
      },
      "source": [
        "### Preprocess data"
      ]
    },
    {
      "cell_type": "code",
      "metadata": {
        "id": "gxckhwPj-GrV",
        "colab_type": "code",
        "colab": {}
      },
      "source": [
        "tokenizer = bert.tokenization.FullTokenizer(\n",
        "    vocab_file=os.path.join(gs_folder_bert, \"vocab.txt\"),\n",
        "     do_lower_case=True)\n",
        "\n",
        "def encode_sentence(s):\n",
        "    tokens = list(tokenizer.tokenize(s))[:510]\n",
        "    tokens.append('[SEP]')\n",
        "    return tokenizer.convert_tokens_to_ids(tokens)\n",
        "\n",
        "def bert_encode(corpus):\n",
        "  num_examples = len(corpus)\n",
        "  \n",
        "  sentences = tf.ragged.constant([\n",
        "      encode_sentence(s)\n",
        "      for s in corpus])\n",
        "\n",
        "  cls = [tokenizer.convert_tokens_to_ids(['[CLS]'])]*sentences.shape[0]\n",
        "  input_word_ids = tf.concat([cls, sentences], axis=-1)\n",
        "\n",
        "  input_mask = tf.ones_like(input_word_ids).to_tensor()\n",
        "\n",
        "  type_cls = tf.zeros_like(cls)\n",
        "  type_s1 = tf.ones_like(sentences)\n",
        "  input_type_ids = tf.concat(\n",
        "      [type_cls, type_s1], axis=-1).to_tensor()\n",
        "\n",
        "  inputs = {\n",
        "      'input_word_ids': input_word_ids.to_tensor(),\n",
        "      'input_mask': input_mask,\n",
        "      'input_type_ids': input_type_ids}\n",
        "\n",
        "  return inputs"
      ],
      "execution_count": 10,
      "outputs": []
    },
    {
      "cell_type": "code",
      "metadata": {
        "id": "JuETY0Dd_8-g",
        "colab_type": "code",
        "colab": {}
      },
      "source": [
        "papers_train = bert_encode(corpus_train)\n",
        "papers_train_labels = tf.constant(y_train)\n",
        "\n",
        "papers_eval = bert_encode(corpus_eval)\n",
        "papers_eval_labels = tf.constant(y_eval)\n",
        "\n",
        "papers_test = bert_encode(corpus_test)\n",
        "papers_test_labels = tf.constant(y_test)"
      ],
      "execution_count": 11,
      "outputs": []
    },
    {
      "cell_type": "code",
      "metadata": {
        "id": "HmtE6nJqBXVM",
        "colab_type": "code",
        "colab": {
          "base_uri": "https://localhost:8080/",
          "height": 85
        },
        "outputId": "2ca14c92-f21c-4a2c-ad77-11054885eb2a"
      },
      "source": [
        "for key, value in papers_train.items():\n",
        "  print(f'{key:15s} shape: {value.shape}')\n",
        "\n",
        "print(f'papers_train_labels shape: {papers_train_labels.shape}')"
      ],
      "execution_count": 12,
      "outputs": [
        {
          "output_type": "stream",
          "text": [
            "input_word_ids  shape: (435, 512)\n",
            "input_mask      shape: (435, 512)\n",
            "input_type_ids  shape: (435, 512)\n",
            "papers_train_labels shape: (435,)\n"
          ],
          "name": "stdout"
        }
      ]
    },
    {
      "cell_type": "code",
      "metadata": {
        "id": "s1loJmmfG9ki",
        "colab_type": "code",
        "colab": {
          "base_uri": "https://localhost:8080/",
          "height": 425
        },
        "outputId": "06120f5d-425c-48f8-9994-0e5a5852b7e7"
      },
      "source": [
        "papers_train"
      ],
      "execution_count": 13,
      "outputs": [
        {
          "output_type": "execute_result",
          "data": {
            "text/plain": [
              "{'input_mask': <tf.Tensor: shape=(435, 512), dtype=int32, numpy=\n",
              " array([[1, 1, 1, ..., 1, 1, 1],\n",
              "        [1, 1, 1, ..., 1, 1, 1],\n",
              "        [1, 1, 1, ..., 1, 1, 1],\n",
              "        ...,\n",
              "        [1, 1, 1, ..., 1, 1, 1],\n",
              "        [1, 1, 1, ..., 1, 1, 1],\n",
              "        [1, 1, 1, ..., 1, 1, 1]], dtype=int32)>,\n",
              " 'input_type_ids': <tf.Tensor: shape=(435, 512), dtype=int32, numpy=\n",
              " array([[0, 1, 1, ..., 1, 1, 1],\n",
              "        [0, 1, 1, ..., 1, 1, 1],\n",
              "        [0, 1, 1, ..., 1, 1, 1],\n",
              "        ...,\n",
              "        [0, 1, 1, ..., 1, 1, 1],\n",
              "        [0, 1, 1, ..., 1, 1, 1],\n",
              "        [0, 1, 1, ..., 1, 1, 1]], dtype=int32)>,\n",
              " 'input_word_ids': <tf.Tensor: shape=(435, 512), dtype=int32, numpy=\n",
              " array([[  101, 19518,  1996, ...,  4328,  6844,   102],\n",
              "        [  101,  2478,  9324, ...,  1042,  1012,   102],\n",
              "        [  101, 19160, 12157, ...,  1010,  2687,   102],\n",
              "        ...,\n",
              "        [  101, 15476,  3672, ...,  1998,  4586,   102],\n",
              "        [  101,  1037,  3716, ...,  2826,  1007,   102],\n",
              "        [  101,  6510,  2010, ...,  1012,  8531,   102]], dtype=int32)>}"
            ]
          },
          "metadata": {
            "tags": []
          },
          "execution_count": 13
        }
      ]
    },
    {
      "cell_type": "markdown",
      "metadata": {
        "id": "hKESHJtgFovi",
        "colab_type": "text"
      },
      "source": [
        "## The model"
      ]
    },
    {
      "cell_type": "code",
      "metadata": {
        "id": "IFdF52DTBiNx",
        "colab_type": "code",
        "colab": {
          "base_uri": "https://localhost:8080/",
          "height": 204
        },
        "outputId": "1aceba8a-ecd3-4ba3-d823-c4dde59d6aec"
      },
      "source": [
        "import json\n",
        "\n",
        "bert_config_file = os.path.join(gs_folder_bert, \"bert_config.json\")\n",
        "config_dict = json.loads(tf.io.gfile.GFile(bert_config_file).read())\n",
        "\n",
        "bert_config = bert.configs.BertConfig.from_dict(config_dict)\n",
        "\n",
        "config_dict"
      ],
      "execution_count": 14,
      "outputs": [
        {
          "output_type": "execute_result",
          "data": {
            "text/plain": [
              "{'attention_probs_dropout_prob': 0.1,\n",
              " 'hidden_act': 'gelu',\n",
              " 'hidden_dropout_prob': 0.1,\n",
              " 'hidden_size': 768,\n",
              " 'initializer_range': 0.02,\n",
              " 'intermediate_size': 3072,\n",
              " 'max_position_embeddings': 512,\n",
              " 'num_attention_heads': 12,\n",
              " 'num_hidden_layers': 12,\n",
              " 'type_vocab_size': 2,\n",
              " 'vocab_size': 30522}"
            ]
          },
          "metadata": {
            "tags": []
          },
          "execution_count": 14
        }
      ]
    },
    {
      "cell_type": "code",
      "metadata": {
        "id": "q4mHQ2E3BmFA",
        "colab_type": "code",
        "colab": {}
      },
      "source": [
        "bert_classifier, bert_encoder = bert.bert_models.classifier_model(\n",
        "    bert_config, hub_module_url=hub_url_bert, num_labels=len(set(classes)))"
      ],
      "execution_count": 15,
      "outputs": []
    },
    {
      "cell_type": "code",
      "metadata": {
        "id": "EePn2VjJBncj",
        "colab_type": "code",
        "colab": {
          "base_uri": "https://localhost:8080/",
          "height": 220
        },
        "outputId": "caf96c51-747d-4ee6-8e8c-401b2705c4d8"
      },
      "source": [
        "tf.keras.utils.plot_model(bert_classifier, show_shapes=True, dpi=48)"
      ],
      "execution_count": 16,
      "outputs": [
        {
          "output_type": "execute_result",
          "data": {
            "image/png": "[encoded data removed]",
            "text/plain": [
              "<IPython.core.display.Image object>"
            ]
          },
          "metadata": {
            "tags": []
          },
          "execution_count": 16
        }
      ]
    },
    {
      "cell_type": "markdown",
      "metadata": {
        "id": "UYHfms-CF15D",
        "colab_type": "text"
      },
      "source": [
        "### Example of classification"
      ]
    },
    {
      "cell_type": "code",
      "metadata": {
        "id": "GQVkrvj1B5XN",
        "colab_type": "code",
        "colab": {
          "base_uri": "https://localhost:8080/",
          "height": 204
        },
        "outputId": "611c18f9-d857-43cd-e2d5-31d40888a9c3"
      },
      "source": [
        "papers_batch = {key: val[:10] for key, val in papers_train.items()}\n",
        "\n",
        "bert_classifier(\n",
        "    papers_batch, training=True\n",
        ").numpy()"
      ],
      "execution_count": 17,
      "outputs": [
        {
          "output_type": "execute_result",
          "data": {
            "text/plain": [
              "array([[ 0.19874075, -1.1095487 , -0.2574772 , -0.04320621, -0.07913983],\n",
              "       [ 0.16780683, -0.9911307 ,  0.00270623, -0.11189278, -0.26466125],\n",
              "       [-0.09812919, -1.2053257 , -0.22822675, -0.24369125, -0.04773099],\n",
              "       [ 0.21552318, -1.1396077 , -0.11721233, -0.34950927, -0.22036001],\n",
              "       [ 0.09641063, -1.1696837 ,  0.05128736, -0.20870423, -0.20054828],\n",
              "       [ 0.02234241, -0.9209168 , -0.39089358, -0.07923584, -0.14584829],\n",
              "       [ 0.2631521 , -1.013072  , -0.00809777, -0.32894993,  0.0160705 ],\n",
              "       [ 0.09522796, -1.1650002 ,  0.02703986, -0.37930322, -0.08659362],\n",
              "       [ 0.11179868, -1.1687503 , -0.07326549, -0.06930113, -0.1255173 ],\n",
              "       [ 0.20082512, -0.9949306 , -0.05707925, -0.24159431, -0.22085312]],\n",
              "      dtype=float32)"
            ]
          },
          "metadata": {
            "tags": []
          },
          "execution_count": 17
        }
      ]
    },
    {
      "cell_type": "markdown",
      "metadata": {
        "id": "Ksab_-YKGEGa",
        "colab_type": "text"
      },
      "source": [
        "### Fine-tuning"
      ]
    },
    {
      "cell_type": "code",
      "metadata": {
        "id": "Gw57TH9dCLMm",
        "colab_type": "code",
        "colab": {}
      },
      "source": [
        "# Set up epochs and steps\n",
        "epochs = 5\n",
        "batch_size = 8\n",
        "\n",
        "train_data_size = len(papers_train_labels)\n",
        "steps_per_epoch = int(train_data_size / batch_size)\n",
        "num_train_steps = steps_per_epoch * epochs\n",
        "warmup_steps = int(epochs * train_data_size * 0.1 / batch_size)\n",
        "\n",
        "# creates an optimizer with learning rate schedule\n",
        "optimizer = nlp.optimization.create_optimizer(\n",
        "    2e-5, num_train_steps=num_train_steps, num_warmup_steps=warmup_steps)"
      ],
      "execution_count": 19,
      "outputs": []
    },
    {
      "cell_type": "code",
      "metadata": {
        "id": "m42DRxDeCfVZ",
        "colab_type": "code",
        "colab": {
          "base_uri": "https://localhost:8080/",
          "height": 187
        },
        "outputId": "ce325623-bb6f-4608-8e77-b63495899221"
      },
      "source": [
        "metrics = [tf.keras.metrics.SparseCategoricalAccuracy('accuracy', dtype=tf.float32)]\n",
        "loss = tf.keras.losses.SparseCategoricalCrossentropy(from_logits=True)\n",
        "\n",
        "bert_classifier.compile(\n",
        "    optimizer=optimizer,\n",
        "    loss=loss,\n",
        "    metrics=metrics)\n",
        "\n",
        "bert_classifier.fit(\n",
        "      papers_train, papers_train_labels,\n",
        "      validation_data=(papers_eval, papers_eval_labels),\n",
        "      batch_size=batch_size,\n",
        "      epochs=epochs);"
      ],
      "execution_count": 20,
      "outputs": [
        {
          "output_type": "stream",
          "text": [
            "Epoch 1/5\n",
            "55/55 [==============================] - 2761s 50s/step - loss: 1.4705 - accuracy: 0.3517 - val_loss: 1.2365 - val_accuracy: 0.4495\n",
            "Epoch 2/5\n",
            "55/55 [==============================] - 2807s 51s/step - loss: 0.9913 - accuracy: 0.6782 - val_loss: 0.5054 - val_accuracy: 0.9266\n",
            "Epoch 3/5\n",
            "55/55 [==============================] - 2769s 50s/step - loss: 0.4389 - accuracy: 0.9379 - val_loss: 0.2621 - val_accuracy: 0.9817\n",
            "Epoch 4/5\n",
            "55/55 [==============================] - 2975s 54s/step - loss: 0.2816 - accuracy: 0.9724 - val_loss: 0.1990 - val_accuracy: 0.9817\n",
            "Epoch 5/5\n",
            "55/55 [==============================] - 2834s 52s/step - loss: 0.2161 - accuracy: 0.9839 - val_loss: 0.1841 - val_accuracy: 0.9908\n"
          ],
          "name": "stdout"
        }
      ]
    }
  ]
}
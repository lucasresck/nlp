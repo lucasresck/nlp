{
  "nbformat": 4,
  "nbformat_minor": 0,
  "metadata": {
    "colab": {
      "name": "bert_test.ipynb",
      "provenance": [],
      "mount_file_id": "1qxflHPjCVUYgO2NA-CdhG2g9V2nUssog",
      "authorship_tag": "ABX9TyOkAYo7TGexn3Ei4LhjAVuh",
      "include_colab_link": true
    },
    "kernelspec": {
      "name": "python3",
      "display_name": "Python 3"
    },
    "widgets": {
      "application/vnd.jupyter.widget-state+json": {
        "2621291c226040bf9f97afc48e004c55": {
          "model_module": "@jupyter-widgets/controls",
          "model_name": "HBoxModel",
          "state": {
            "_view_name": "HBoxView",
            "_dom_classes": [],
            "_model_name": "HBoxModel",
            "_view_module": "@jupyter-widgets/controls",
            "_model_module_version": "1.5.0",
            "_view_count": null,
            "_view_module_version": "1.5.0",
            "box_style": "",
            "layout": "IPY_MODEL_331dd0ce59124b78b09409d07b442357",
            "_model_module": "@jupyter-widgets/controls",
            "children": [
              "IPY_MODEL_4ac081bcd4394906897141dd5fc15563",
              "IPY_MODEL_20324f6e58764b7bb4b3ae43cc822ce6"
            ]
          }
        },
        "331dd0ce59124b78b09409d07b442357": {
          "model_module": "@jupyter-widgets/base",
          "model_name": "LayoutModel",
          "state": {
            "_view_name": "LayoutView",
            "grid_template_rows": null,
            "right": null,
            "justify_content": null,
            "_view_module": "@jupyter-widgets/base",
            "overflow": null,
            "_model_module_version": "1.2.0",
            "_view_count": null,
            "flex_flow": null,
            "width": null,
            "min_width": null,
            "border": null,
            "align_items": null,
            "bottom": null,
            "_model_module": "@jupyter-widgets/base",
            "top": null,
            "grid_column": null,
            "overflow_y": null,
            "overflow_x": null,
            "grid_auto_flow": null,
            "grid_area": null,
            "grid_template_columns": null,
            "flex": null,
            "_model_name": "LayoutModel",
            "justify_items": null,
            "grid_row": null,
            "max_height": null,
            "align_content": null,
            "visibility": null,
            "align_self": null,
            "height": null,
            "min_height": null,
            "padding": null,
            "grid_auto_rows": null,
            "grid_gap": null,
            "max_width": null,
            "order": null,
            "_view_module_version": "1.2.0",
            "grid_template_areas": null,
            "object_position": null,
            "object_fit": null,
            "grid_auto_columns": null,
            "margin": null,
            "display": null,
            "left": null
          }
        },
        "4ac081bcd4394906897141dd5fc15563": {
          "model_module": "@jupyter-widgets/controls",
          "model_name": "FloatProgressModel",
          "state": {
            "_view_name": "ProgressView",
            "style": "IPY_MODEL_932aea4669ce4d87b094372e53a23134",
            "_dom_classes": [],
            "description": "100%",
            "_model_name": "FloatProgressModel",
            "bar_style": "success",
            "max": 681,
            "_view_module": "@jupyter-widgets/controls",
            "_model_module_version": "1.5.0",
            "value": 681,
            "_view_count": null,
            "_view_module_version": "1.5.0",
            "orientation": "horizontal",
            "min": 0,
            "description_tooltip": null,
            "_model_module": "@jupyter-widgets/controls",
            "layout": "IPY_MODEL_ce95ffa505b44513b1c111b13544bb2f"
          }
        },
        "20324f6e58764b7bb4b3ae43cc822ce6": {
          "model_module": "@jupyter-widgets/controls",
          "model_name": "HTMLModel",
          "state": {
            "_view_name": "HTMLView",
            "style": "IPY_MODEL_0bf894d1d76e40178b9e44304a93fd78",
            "_dom_classes": [],
            "description": "",
            "_model_name": "HTMLModel",
            "placeholder": "​",
            "_view_module": "@jupyter-widgets/controls",
            "_model_module_version": "1.5.0",
            "value": " 681/681 [00:00&lt;00:00, 846.36it/s]",
            "_view_count": null,
            "_view_module_version": "1.5.0",
            "description_tooltip": null,
            "_model_module": "@jupyter-widgets/controls",
            "layout": "IPY_MODEL_490533b2f21e46568c81efda8171df4e"
          }
        },
        "932aea4669ce4d87b094372e53a23134": {
          "model_module": "@jupyter-widgets/controls",
          "model_name": "ProgressStyleModel",
          "state": {
            "_view_name": "StyleView",
            "_model_name": "ProgressStyleModel",
            "description_width": "initial",
            "_view_module": "@jupyter-widgets/base",
            "_model_module_version": "1.5.0",
            "_view_count": null,
            "_view_module_version": "1.2.0",
            "bar_color": null,
            "_model_module": "@jupyter-widgets/controls"
          }
        },
        "ce95ffa505b44513b1c111b13544bb2f": {
          "model_module": "@jupyter-widgets/base",
          "model_name": "LayoutModel",
          "state": {
            "_view_name": "LayoutView",
            "grid_template_rows": null,
            "right": null,
            "justify_content": null,
            "_view_module": "@jupyter-widgets/base",
            "overflow": null,
            "_model_module_version": "1.2.0",
            "_view_count": null,
            "flex_flow": null,
            "width": null,
            "min_width": null,
            "border": null,
            "align_items": null,
            "bottom": null,
            "_model_module": "@jupyter-widgets/base",
            "top": null,
            "grid_column": null,
            "overflow_y": null,
            "overflow_x": null,
            "grid_auto_flow": null,
            "grid_area": null,
            "grid_template_columns": null,
            "flex": null,
            "_model_name": "LayoutModel",
            "justify_items": null,
            "grid_row": null,
            "max_height": null,
            "align_content": null,
            "visibility": null,
            "align_self": null,
            "height": null,
            "min_height": null,
            "padding": null,
            "grid_auto_rows": null,
            "grid_gap": null,
            "max_width": null,
            "order": null,
            "_view_module_version": "1.2.0",
            "grid_template_areas": null,
            "object_position": null,
            "object_fit": null,
            "grid_auto_columns": null,
            "margin": null,
            "display": null,
            "left": null
          }
        },
        "0bf894d1d76e40178b9e44304a93fd78": {
          "model_module": "@jupyter-widgets/controls",
          "model_name": "DescriptionStyleModel",
          "state": {
            "_view_name": "StyleView",
            "_model_name": "DescriptionStyleModel",
            "description_width": "",
            "_view_module": "@jupyter-widgets/base",
            "_model_module_version": "1.5.0",
            "_view_count": null,
            "_view_module_version": "1.2.0",
            "_model_module": "@jupyter-widgets/controls"
          }
        },
        "490533b2f21e46568c81efda8171df4e": {
          "model_module": "@jupyter-widgets/base",
          "model_name": "LayoutModel",
          "state": {
            "_view_name": "LayoutView",
            "grid_template_rows": null,
            "right": null,
            "justify_content": null,
            "_view_module": "@jupyter-widgets/base",
            "overflow": null,
            "_model_module_version": "1.2.0",
            "_view_count": null,
            "flex_flow": null,
            "width": null,
            "min_width": null,
            "border": null,
            "align_items": null,
            "bottom": null,
            "_model_module": "@jupyter-widgets/base",
            "top": null,
            "grid_column": null,
            "overflow_y": null,
            "overflow_x": null,
            "grid_auto_flow": null,
            "grid_area": null,
            "grid_template_columns": null,
            "flex": null,
            "_model_name": "LayoutModel",
            "justify_items": null,
            "grid_row": null,
            "max_height": null,
            "align_content": null,
            "visibility": null,
            "align_self": null,
            "height": null,
            "min_height": null,
            "padding": null,
            "grid_auto_rows": null,
            "grid_gap": null,
            "max_width": null,
            "order": null,
            "_view_module_version": "1.2.0",
            "grid_template_areas": null,
            "object_position": null,
            "object_fit": null,
            "grid_auto_columns": null,
            "margin": null,
            "display": null,
            "left": null
          }
        }
      }
    }
  },
  "cells": [
    {
      "cell_type": "markdown",
      "metadata": {
        "id": "view-in-github",
        "colab_type": "text"
      },
      "source": [
        "<a href=\"https://colab.research.google.com/github/lucasresck/nlp/blob/master/bert_test.ipynb\" target=\"_parent\"><img src=\"https://colab.research.google.com/assets/colab-badge.svg\" alt=\"Open In Colab\"/></a>"
      ]
    },
    {
      "cell_type": "markdown",
      "metadata": {
        "id": "8cR5_2BXFSXu",
        "colab_type": "text"
      },
      "source": [
        "# Classification of texts using BERT"
      ]
    },
    {
      "cell_type": "markdown",
      "metadata": {
        "id": "BUgyrhxpHgjA",
        "colab_type": "text"
      },
      "source": [
        "Inspired by: https://colab.research.google.com/github/tensorflow/models/blob/master/official/colab/fine_tuning_bert.ipynb"
      ]
    },
    {
      "cell_type": "markdown",
      "metadata": {
        "id": "icbWvsLwFVuL",
        "colab_type": "text"
      },
      "source": [
        "## Setup"
      ]
    },
    {
      "cell_type": "code",
      "metadata": {
        "id": "F0jk9msq9JrR",
        "colab_type": "code",
        "colab": {}
      },
      "source": [
        "!pip install -q tf-models-official==2.3.0"
      ],
      "execution_count": 1,
      "outputs": []
    },
    {
      "cell_type": "code",
      "metadata": {
        "id": "QGaz_CwF9KvI",
        "colab_type": "code",
        "colab": {}
      },
      "source": [
        "from official.modeling import tf_utils\n",
        "from official import nlp\n",
        "from official.nlp import bert\n",
        "from sklearn.model_selection import train_test_split\n",
        "from tqdm.notebook import tqdm\n",
        "import matplotlib.pyplot as plt\n",
        "import numpy as np\n",
        "import official.nlp.optimization\n",
        "import official.nlp.bert.bert_models\n",
        "import official.nlp.bert.configs\n",
        "import official.nlp.bert.run_classifier\n",
        "import official.nlp.bert.tokenization\n",
        "import official.nlp.data.classifier_data_lib\n",
        "import official.nlp.modeling.losses\n",
        "import official.nlp.modeling.models\n",
        "import official.nlp.modeling.networks\n",
        "import os\n",
        "import tensorflow as tf\n",
        "import tensorflow_datasets as tfds\n",
        "import tensorflow_hub as hub\n",
        "\n",
        "tfds.disable_progress_bar()"
      ],
      "execution_count": 2,
      "outputs": []
    },
    {
      "cell_type": "code",
      "metadata": {
        "id": "7nqrrDDc9MMi",
        "colab_type": "code",
        "colab": {
          "base_uri": "https://localhost:8080/",
          "height": 85
        },
        "outputId": "8e36c63a-f65f-4052-cd3e-3027c82c9ded"
      },
      "source": [
        "gs_folder_bert = \"gs://cloud-tpu-checkpoints/bert/keras_bert/uncased_L-12_H-768_A-12\"\n",
        "tf.io.gfile.listdir(gs_folder_bert)"
      ],
      "execution_count": 3,
      "outputs": [
        {
          "output_type": "execute_result",
          "data": {
            "text/plain": [
              "['bert_config.json',\n",
              " 'bert_model.ckpt.data-00000-of-00001',\n",
              " 'bert_model.ckpt.index',\n",
              " 'vocab.txt']"
            ]
          },
          "metadata": {
            "tags": []
          },
          "execution_count": 3
        }
      ]
    },
    {
      "cell_type": "code",
      "metadata": {
        "id": "low6oh1a9NuS",
        "colab_type": "code",
        "colab": {}
      },
      "source": [
        "hub_url_bert = \"https://tfhub.dev/tensorflow/bert_en_uncased_L-12_H-768_A-12/2\""
      ],
      "execution_count": 4,
      "outputs": []
    },
    {
      "cell_type": "code",
      "metadata": {
        "id": "MjDciwV6ZVua",
        "colab_type": "code",
        "colab": {}
      },
      "source": [
        "DATAPATH = 'drive/My Drive/Colab Notebooks/data'"
      ],
      "execution_count": 5,
      "outputs": []
    },
    {
      "cell_type": "markdown",
      "metadata": {
        "id": "-o5VrHujFdu4",
        "colab_type": "text"
      },
      "source": [
        "## Data"
      ]
    },
    {
      "cell_type": "markdown",
      "metadata": {
        "id": "cGgXlq5oFgYC",
        "colab_type": "text"
      },
      "source": [
        "### Load data"
      ]
    },
    {
      "cell_type": "code",
      "metadata": {
        "id": "8sBwYrTkY8aj",
        "colab_type": "code",
        "colab": {
          "base_uri": "https://localhost:8080/",
          "height": 66,
          "referenced_widgets": [
            "2621291c226040bf9f97afc48e004c55",
            "331dd0ce59124b78b09409d07b442357",
            "4ac081bcd4394906897141dd5fc15563",
            "20324f6e58764b7bb4b3ae43cc822ce6",
            "932aea4669ce4d87b094372e53a23134",
            "ce95ffa505b44513b1c111b13544bb2f",
            "0bf894d1d76e40178b9e44304a93fd78",
            "490533b2f21e46568c81efda8171df4e"
          ]
        },
        "outputId": "7aa5294e-9408-489e-9222-9359e1084929"
      },
      "source": [
        "filenames = os.listdir(os.path.join(DATAPATH, 'cbr-ilp-ir-son-int'))\n",
        "corpus = []\n",
        "for filename in tqdm(filenames):\n",
        "    with open(os.path.join(DATAPATH, 'cbr-ilp-ir-son-int', filename), 'r', encoding='latin-1') as f:\n",
        "        corpus.append(f.read())"
      ],
      "execution_count": 6,
      "outputs": [
        {
          "output_type": "display_data",
          "data": {
            "application/vnd.jupyter.widget-view+json": {
              "model_id": "2621291c226040bf9f97afc48e004c55",
              "version_minor": 0,
              "version_major": 2
            },
            "text/plain": [
              "HBox(children=(FloatProgress(value=0.0, max=681.0), HTML(value='')))"
            ]
          },
          "metadata": {
            "tags": []
          }
        },
        {
          "output_type": "stream",
          "text": [
            "\n"
          ],
          "name": "stdout"
        }
      ]
    },
    {
      "cell_type": "code",
      "metadata": {
        "id": "vtxN3pZ9ZKnc",
        "colab_type": "code",
        "colab": {}
      },
      "source": [
        "classes = [(filename.split('-')[0]).split('_')[0] for filename in filenames]\n",
        "which_class = dict(zip(set(classes), range(5)))\n",
        "y = np.array([which_class[name] for name in classes])"
      ],
      "execution_count": 7,
      "outputs": []
    },
    {
      "cell_type": "markdown",
      "metadata": {
        "id": "rQPwZuaBFib7",
        "colab_type": "text"
      },
      "source": [
        "### Split training, evaluation and test data"
      ]
    },
    {
      "cell_type": "code",
      "metadata": {
        "id": "fZ_SxPbP9zk5",
        "colab_type": "code",
        "colab": {}
      },
      "source": [
        "corpus_train, corpus_test, y_train, y_test = train_test_split(corpus, y, random_state=2020, test_size=0.2)\n",
        "corpus_train, corpus_eval, y_train, y_eval = train_test_split(corpus_train, y_train, random_state=2021, test_size=0.2)"
      ],
      "execution_count": 8,
      "outputs": []
    },
    {
      "cell_type": "markdown",
      "metadata": {
        "id": "8SVZadh5FlPY",
        "colab_type": "text"
      },
      "source": [
        "### Preprocess data"
      ]
    },
    {
      "cell_type": "code",
      "metadata": {
        "id": "gxckhwPj-GrV",
        "colab_type": "code",
        "colab": {}
      },
      "source": [
        "tokenizer = bert.tokenization.FullTokenizer(\n",
        "    vocab_file=os.path.join(gs_folder_bert, \"vocab.txt\"),\n",
        "     do_lower_case=True)\n",
        "\n",
        "def encode_sentence(s):\n",
        "    tokens = list(tokenizer.tokenize(s))[:100]\n",
        "    tokens.append('[SEP]')\n",
        "    return tokenizer.convert_tokens_to_ids(tokens)\n",
        "\n",
        "def bert_encode(corpus):\n",
        "  num_examples = len(corpus)\n",
        "  \n",
        "  sentences = tf.ragged.constant([\n",
        "      encode_sentence(s)\n",
        "      for s in corpus])\n",
        "\n",
        "  cls = [tokenizer.convert_tokens_to_ids(['[CLS]'])]*sentences.shape[0]\n",
        "  input_word_ids = tf.concat([cls, sentences], axis=-1)\n",
        "\n",
        "  input_mask = tf.ones_like(input_word_ids).to_tensor()\n",
        "\n",
        "  type_cls = tf.zeros_like(cls)\n",
        "  type_s1 = tf.ones_like(sentences)\n",
        "  input_type_ids = tf.concat(\n",
        "      [type_cls, type_s1], axis=-1).to_tensor()\n",
        "\n",
        "  inputs = {\n",
        "      'input_word_ids': input_word_ids.to_tensor(),\n",
        "      'input_mask': input_mask,\n",
        "      'input_type_ids': input_type_ids}\n",
        "\n",
        "  return inputs"
      ],
      "execution_count": 9,
      "outputs": []
    },
    {
      "cell_type": "code",
      "metadata": {
        "id": "JuETY0Dd_8-g",
        "colab_type": "code",
        "colab": {}
      },
      "source": [
        "papers_train = bert_encode(corpus_train)\n",
        "papers_train_labels = tf.constant(y_train)\n",
        "\n",
        "papers_eval = bert_encode(corpus_eval)\n",
        "papers_eval_labels = tf.constant(y_eval)\n",
        "\n",
        "papers_test = bert_encode(corpus_test)\n",
        "papers_test_labels = tf.constant(y_test)"
      ],
      "execution_count": 10,
      "outputs": []
    },
    {
      "cell_type": "code",
      "metadata": {
        "id": "HmtE6nJqBXVM",
        "colab_type": "code",
        "colab": {
          "base_uri": "https://localhost:8080/",
          "height": 85
        },
        "outputId": "c5c79a4c-a133-4b9a-b407-a91af11a18d0"
      },
      "source": [
        "for key, value in papers_train.items():\n",
        "  print(f'{key:15s} shape: {value.shape}')\n",
        "\n",
        "print(f'papers_train_labels shape: {papers_train_labels.shape}')"
      ],
      "execution_count": 11,
      "outputs": [
        {
          "output_type": "stream",
          "text": [
            "input_word_ids  shape: (435, 102)\n",
            "input_mask      shape: (435, 102)\n",
            "input_type_ids  shape: (435, 102)\n",
            "papers_train_labels shape: (435,)\n"
          ],
          "name": "stdout"
        }
      ]
    },
    {
      "cell_type": "markdown",
      "metadata": {
        "id": "hKESHJtgFovi",
        "colab_type": "text"
      },
      "source": [
        "## The model"
      ]
    },
    {
      "cell_type": "code",
      "metadata": {
        "id": "IFdF52DTBiNx",
        "colab_type": "code",
        "colab": {
          "base_uri": "https://localhost:8080/",
          "height": 204
        },
        "outputId": "aaf4757a-1a80-4e0e-b670-f7522f50570a"
      },
      "source": [
        "import json\n",
        "\n",
        "bert_config_file = os.path.join(gs_folder_bert, \"bert_config.json\")\n",
        "config_dict = json.loads(tf.io.gfile.GFile(bert_config_file).read())\n",
        "\n",
        "bert_config = bert.configs.BertConfig.from_dict(config_dict)\n",
        "\n",
        "config_dict"
      ],
      "execution_count": 12,
      "outputs": [
        {
          "output_type": "execute_result",
          "data": {
            "text/plain": [
              "{'attention_probs_dropout_prob': 0.1,\n",
              " 'hidden_act': 'gelu',\n",
              " 'hidden_dropout_prob': 0.1,\n",
              " 'hidden_size': 768,\n",
              " 'initializer_range': 0.02,\n",
              " 'intermediate_size': 3072,\n",
              " 'max_position_embeddings': 512,\n",
              " 'num_attention_heads': 12,\n",
              " 'num_hidden_layers': 12,\n",
              " 'type_vocab_size': 2,\n",
              " 'vocab_size': 30522}"
            ]
          },
          "metadata": {
            "tags": []
          },
          "execution_count": 12
        }
      ]
    },
    {
      "cell_type": "code",
      "metadata": {
        "id": "q4mHQ2E3BmFA",
        "colab_type": "code",
        "colab": {}
      },
      "source": [
        "bert_classifier, bert_encoder = bert.bert_models.classifier_model(\n",
        "    bert_config, hub_module_url=hub_url_bert, num_labels=len(set(classes)))"
      ],
      "execution_count": 13,
      "outputs": []
    },
    {
      "cell_type": "code",
      "metadata": {
        "id": "EePn2VjJBncj",
        "colab_type": "code",
        "colab": {
          "base_uri": "https://localhost:8080/",
          "height": 220
        },
        "outputId": "55d0914d-326a-4e98-b7e2-91cc59d34f6a"
      },
      "source": [
        "tf.keras.utils.plot_model(bert_classifier, show_shapes=True, dpi=48)"
      ],
      "execution_count": 14,
      "outputs": [
        {
          "output_type": "execute_result",
          "data": {
            "image/png": "[encoded data removed]",
            "text/plain": [
              "<IPython.core.display.Image object>"
            ]
          },
          "metadata": {
            "tags": []
          },
          "execution_count": 14
        }
      ]
    },
    {
      "cell_type": "markdown",
      "metadata": {
        "id": "UYHfms-CF15D",
        "colab_type": "text"
      },
      "source": [
        "### Example of classification"
      ]
    },
    {
      "cell_type": "code",
      "metadata": {
        "id": "GQVkrvj1B5XN",
        "colab_type": "code",
        "colab": {
          "base_uri": "https://localhost:8080/",
          "height": 204
        },
        "outputId": "169822cb-19c6-43bc-88e1-293e496af4c9"
      },
      "source": [
        "papers_batch = {key: val[:10] for key, val in papers_train.items()}\n",
        "\n",
        "bert_classifier(\n",
        "    papers_batch, training=True\n",
        ").numpy()"
      ],
      "execution_count": 15,
      "outputs": [
        {
          "output_type": "execute_result",
          "data": {
            "text/plain": [
              "array([[ 0.43066475,  0.67105615,  0.17031476, -0.04501677, -0.06970296],\n",
              "       [ 0.40447897,  0.48438317,  0.27324286, -0.13936776, -0.08861032],\n",
              "       [ 0.38168758,  0.39743164,  0.2794752 , -0.19226956, -0.19593948],\n",
              "       [ 0.2600276 ,  0.44643486,  0.3068444 ,  0.0282186 , -0.18142663],\n",
              "       [ 0.35779053,  0.74806154,  0.3032358 , -0.44590965, -0.29897273],\n",
              "       [ 0.16474795,  0.50578254,  0.17412302, -0.34160185,  0.05735749],\n",
              "       [ 0.32797325,  0.46726137, -0.03767957,  0.07068426, -0.2660399 ],\n",
              "       [ 0.26063955,  0.6782309 ,  0.16483453, -0.3296475 , -0.07968827],\n",
              "       [ 0.30134702,  0.55034274,  0.0668944 ,  0.02624078, -0.22295086],\n",
              "       [ 0.3602987 ,  0.47127804,  0.31340578, -0.05040336, -0.15523338]],\n",
              "      dtype=float32)"
            ]
          },
          "metadata": {
            "tags": []
          },
          "execution_count": 15
        }
      ]
    },
    {
      "cell_type": "markdown",
      "metadata": {
        "id": "Ksab_-YKGEGa",
        "colab_type": "text"
      },
      "source": [
        "### Fine-tuning"
      ]
    },
    {
      "cell_type": "code",
      "metadata": {
        "id": "Gw57TH9dCLMm",
        "colab_type": "code",
        "colab": {}
      },
      "source": [
        "# Set up epochs and steps\n",
        "epochs = 3\n",
        "batch_size = 32\n",
        "\n",
        "train_data_size = len(papers_train_labels)\n",
        "steps_per_epoch = int(train_data_size / batch_size)\n",
        "num_train_steps = steps_per_epoch * epochs\n",
        "warmup_steps = int(epochs * train_data_size * 0.1 / batch_size)\n",
        "\n",
        "# creates an optimizer with learning rate schedule\n",
        "optimizer = nlp.optimization.create_optimizer(\n",
        "    2e-5, num_train_steps=num_train_steps, num_warmup_steps=warmup_steps)"
      ],
      "execution_count": 16,
      "outputs": []
    },
    {
      "cell_type": "code",
      "metadata": {
        "id": "m42DRxDeCfVZ",
        "colab_type": "code",
        "colab": {
          "base_uri": "https://localhost:8080/",
          "height": 156
        },
        "outputId": "a38ce028-b0b8-4bea-cb94-2a4dd1850e93"
      },
      "source": [
        "metrics = [tf.keras.metrics.SparseCategoricalAccuracy('accuracy', dtype=tf.float32)]\n",
        "loss = tf.keras.losses.SparseCategoricalCrossentropy(from_logits=True)\n",
        "\n",
        "bert_classifier.compile(\n",
        "    optimizer=optimizer,\n",
        "    loss=loss,\n",
        "    metrics=metrics)\n",
        "\n",
        "bert_classifier.fit(\n",
        "      papers_train, papers_train_labels,\n",
        "      validation_data=(papers_eval, papers_eval_labels),\n",
        "      batch_size=32,\n",
        "      epochs=epochs)"
      ],
      "execution_count": 17,
      "outputs": [
        {
          "output_type": "stream",
          "text": [
            "Epoch 1/3\n",
            "14/14 [==============================] - 473s 34s/step - loss: 1.5280 - accuracy: 0.2943 - val_loss: 1.3459 - val_accuracy: 0.4587\n",
            "Epoch 2/3\n",
            "14/14 [==============================] - 471s 34s/step - loss: 1.3046 - accuracy: 0.4161 - val_loss: 1.1690 - val_accuracy: 0.4587\n",
            "Epoch 3/3\n",
            "14/14 [==============================] - 472s 34s/step - loss: 1.1684 - accuracy: 0.4759 - val_loss: 1.1143 - val_accuracy: 0.5046\n"
          ],
          "name": "stdout"
        },
        {
          "output_type": "execute_result",
          "data": {
            "text/plain": [
              "<tensorflow.python.keras.callbacks.History at 0x7fe959e6cda0>"
            ]
          },
          "metadata": {
            "tags": []
          },
          "execution_count": 17
        }
      ]
    },
    {
      "cell_type": "markdown",
      "metadata": {
        "id": "oBg5_D-JOdB_",
        "colab_type": "text"
      },
      "source": [
        "## Evaluate model"
      ]
    },
    {
      "cell_type": "code",
      "metadata": {
        "id": "Jyy7BN-YOh0u",
        "colab_type": "code",
        "colab": {
          "base_uri": "https://localhost:8080/",
          "height": 34
        },
        "outputId": "b9b50df1-475b-43f7-c12a-982513a9df36"
      },
      "source": [
        "# Training data\n",
        "result = bert_classifier(papers_train, training=False)\n",
        "np.sum(tf.argmax(result, axis=1) == papers_train_labels)/len(papers_train_labels)"
      ],
      "execution_count": 27,
      "outputs": [
        {
          "output_type": "execute_result",
          "data": {
            "text/plain": [
              "0.5609195402298851"
            ]
          },
          "metadata": {
            "tags": []
          },
          "execution_count": 27
        }
      ]
    },
    {
      "cell_type": "code",
      "metadata": {
        "id": "gIriJ4ZxNtUi",
        "colab_type": "code",
        "colab": {
          "base_uri": "https://localhost:8080/",
          "height": 34
        },
        "outputId": "904a7007-3b1d-4e09-aae6-7a1a063de28a"
      },
      "source": [
        "# Test data\n",
        "result = bert_classifier(papers_test, training=False)\n",
        "np.sum(tf.argmax(result, axis=1) == papers_test_labels)/len(papers_test_labels)"
      ],
      "execution_count": 28,
      "outputs": [
        {
          "output_type": "execute_result",
          "data": {
            "text/plain": [
              "0.5109489051094891"
            ]
          },
          "metadata": {
            "tags": []
          },
          "execution_count": 28
        }
      ]
    },
    {
      "cell_type": "markdown",
      "metadata": {
        "id": "-2IGhkBMRuu-",
        "colab_type": "text"
      },
      "source": [
        "The model isn't yet fine-tuned."
      ]
    }
  ]
}